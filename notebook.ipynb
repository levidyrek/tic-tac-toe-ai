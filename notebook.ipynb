{
 "cells": [
  {
   "cell_type": "code",
   "execution_count": 3,
   "metadata": {},
   "outputs": [
    {
     "name": "stdout",
     "output_type": "stream",
     "text": [
      "Model: \"model_1\"\n",
      "_________________________________________________________________\n",
      " Layer (type)                Output Shape              Param #   \n",
      "=================================================================\n",
      " board (InputLayer)          [(None, 2, 3, 3)]         0         \n",
      "                                                                 \n",
      " reshape_2 (Reshape)         (None, 3, 3, 2)           0         \n",
      "                                                                 \n",
      " conv2d_2 (Conv2D)           (None, 3, 3, 256)         768       \n",
      "                                                                 \n",
      " batch_normalization_1 (Batc  (None, 3, 3, 256)        12        \n",
      " hNormalization)                                                 \n",
      "                                                                 \n",
      " max_pooling2d_1 (MaxPooling  (None, 3, 3, 256)        0         \n",
      " 2D)                                                             \n",
      "                                                                 \n",
      " conv2d_3 (Conv2D)           (None, 3, 3, 1)           257       \n",
      "                                                                 \n",
      " play_dist (Reshape)         (None, 1, 3, 3)           0         \n",
      "                                                                 \n",
      "=================================================================\n",
      "Total params: 1,037\n",
      "Trainable params: 1,031\n",
      "Non-trainable params: 6\n",
      "_________________________________________________________________\n"
     ]
    }
   ],
   "source": [
    "import numpy as np\n",
    "import tensorflow as tf\n",
    "from tensorflow import keras\n",
    "from tensorflow.keras import layers\n",
    "\n",
    "# Input layer\n",
    "board_input = keras.Input(shape=(2, 3, 3), name='board')\n",
    "x = layers.Reshape((3, 3, 2))(board_input)\n",
    "\n",
    "# Hidden layers\n",
    "x = layers.Conv2D(\n",
    "  256, 1,\n",
    "  activation='relu',\n",
    "  input_shape=(3, 3, 2),\n",
    ")(x)\n",
    "x = layers.BatchNormalization(axis=1)(x) \n",
    "x = layers.MaxPooling2D(\n",
    "  1,\n",
    ")(x)\n",
    "\n",
    "# Output layers\n",
    "x = layers.Conv2D(\n",
    "  1, 1,\n",
    "  activation='relu',\n",
    "  input_shape=(3, 3, 2),\n",
    ")(x)\n",
    "play_dist = layers.Reshape((1, 3, 3), name='play_dist')(x)\n",
    "\n",
    "model = keras.Model(\n",
    "  inputs=[board_input],\n",
    "  outputs=[play_dist],\n",
    ")\n",
    "\n",
    "model.compile(\n",
    "  optimizer=keras.optimizers.RMSprop(\n",
    "    learning_rate=0.003,\n",
    "  ),\n",
    "  loss={\n",
    "    'play_dist': keras.losses.BinaryCrossentropy(\n",
    "      from_logits=True,\n",
    "    ),\n",
    "  },\n",
    ")\n",
    "\n",
    "model.summary()"
   ]
  },
  {
   "cell_type": "code",
   "execution_count": 5,
   "metadata": {},
   "outputs": [],
   "source": [
    "from src.tic_tac_toe import TicTacToe\n",
    "from src.self_play import self_play_game\n",
    "\n",
    "game = TicTacToe()\n",
    "self_play_game(model, game)\n",
    "\n",
    "winner = game.get_winner()\n",
    "\n",
    "while len(game.plays) > 0:\n",
    "  play = game.pop_last_play()\n",
    "  \n",
    "  winner = game.get_winner()\n",
    "\n",
    "  # If current player is not the winner, do not train on this play\n",
    "  if (winner is not None and game.turn != winner):\n",
    "    continue\n",
    "\n",
    "  board = game.board\n",
    "\n",
    "  # flip the board if player 2 to be consistent with training data\n",
    "  if game.turn == 1:\n",
    "    board = np.flip(board, axis=0)\n",
    "\n",
    "  boards_np = np.array([board])\n",
    "\n",
    "  (player, row, col) = play\n",
    "  play_matrix = [\n",
    "    [0, 0, 0],\n",
    "    [0, 0, 0],\n",
    "    [0, 0, 0],\n",
    "  ]\n",
    "  play_matrix[row][col] = 1\n",
    "\n",
    "  plays_np = np.array([[play_matrix]])\n",
    "\n",
    "  # Train the model\n",
    "  model.fit(\n",
    "    x={\n",
    "      'board': boards_np,\n",
    "    },\n",
    "    y={\n",
    "      'play_dist': plays_np,\n",
    "    },\n",
    "    batch_size=1,\n",
    "    epochs=1,\n",
    "    verbose=0,\n",
    "  )"
   ]
  },
  {
   "cell_type": "code",
   "execution_count": 11,
   "metadata": {},
   "outputs": [
    {
     "data": {
      "text/plain": [
       "{'row': 0, 'col': 0, 'probability': 0}"
      ]
     },
     "execution_count": 11,
     "metadata": {},
     "output_type": "execute_result"
    }
   ],
   "source": [
    "from src.self_play import get_next_play\n",
    "\n",
    "game = TicTacToe()\n",
    "\n",
    "get_next_play(model, game)"
   ]
  }
 ],
 "metadata": {
  "kernelspec": {
   "display_name": "tic-tac-toe-ai",
   "language": "python",
   "name": "python3"
  },
  "language_info": {
   "codemirror_mode": {
    "name": "ipython",
    "version": 3
   },
   "file_extension": ".py",
   "mimetype": "text/x-python",
   "name": "python",
   "nbconvert_exporter": "python",
   "pygments_lexer": "ipython3",
   "version": "3.9.16"
  },
  "orig_nbformat": 4,
  "vscode": {
   "interpreter": {
    "hash": "db9b0c1184f4f41047b4ae4db8e90ec8907af7946d0096a9a7d301bb6bb9d2de"
   }
  }
 },
 "nbformat": 4,
 "nbformat_minor": 2
}
