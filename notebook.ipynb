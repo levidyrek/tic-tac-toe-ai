{
 "cells": [
  {
   "cell_type": "code",
   "execution_count": 1,
   "metadata": {},
   "outputs": [
    {
     "name": "stderr",
     "output_type": "stream",
     "text": [
      "2023-01-19 11:11:05.245299: I tensorflow/core/platform/cpu_feature_guard.cc:193] This TensorFlow binary is optimized with oneAPI Deep Neural Network Library (oneDNN) to use the following CPU instructions in performance-critical operations:  AVX2 FMA\n",
      "To enable them in other operations, rebuild TensorFlow with the appropriate compiler flags.\n"
     ]
    },
    {
     "name": "stdout",
     "output_type": "stream",
     "text": [
      "Model: \"model\"\n",
      "_________________________________________________________________\n",
      " Layer (type)                Output Shape              Param #   \n",
      "=================================================================\n",
      " board (InputLayer)          [(None, 2, 3, 3)]         0         \n",
      "                                                                 \n",
      " flatten (Flatten)           (None, 18)                0         \n",
      "                                                                 \n",
      " dense (Dense)               (None, 128)               2432      \n",
      "                                                                 \n",
      " dense_1 (Dense)             (None, 128)               16512     \n",
      "                                                                 \n",
      " dense_2 (Dense)             (None, 9)                 1161      \n",
      "                                                                 \n",
      " play_dist (Reshape)         (None, 1, 3, 3)           0         \n",
      "                                                                 \n",
      "=================================================================\n",
      "Total params: 20,105\n",
      "Trainable params: 20,105\n",
      "Non-trainable params: 0\n",
      "_________________________________________________________________\n"
     ]
    },
    {
     "name": "stderr",
     "output_type": "stream",
     "text": [
      "2023-01-19 11:11:08.350413: I tensorflow/core/platform/cpu_feature_guard.cc:193] This TensorFlow binary is optimized with oneAPI Deep Neural Network Library (oneDNN) to use the following CPU instructions in performance-critical operations:  AVX2 FMA\n",
      "To enable them in other operations, rebuild TensorFlow with the appropriate compiler flags.\n"
     ]
    }
   ],
   "source": [
    "import numpy as np\n",
    "import tensorflow as tf\n",
    "from tensorflow import keras\n",
    "from tensorflow.keras import layers\n",
    "\n",
    "# Input layer\n",
    "board_input = keras.Input(shape=(2, 3, 3), name='board')\n",
    "x = layers.Flatten(data_format='channels_first')(board_input)\n",
    "\n",
    "# Hidden layers\n",
    "x = layers.Dense(128, activation='softmax')(x)\n",
    "x = layers.Dense(128, activation='softmax')(x)\n",
    "\n",
    "# Output layers\n",
    "x = layers.Dense(9, activation='softmax')(x)\n",
    "play_dist = layers.Reshape((1, 3, 3), name='play_dist')(x)\n",
    "\n",
    "model = keras.Model(\n",
    "  inputs=[board_input],\n",
    "  outputs=[play_dist],\n",
    ")\n",
    "\n",
    "model.compile(\n",
    "  optimizer='adam',\n",
    "  loss='mae',\n",
    ")\n",
    "\n",
    "model.summary()"
   ]
  },
  {
   "cell_type": "code",
   "execution_count": null,
   "metadata": {},
   "outputs": [],
   "source": [
    "from keras.models import load_model\n",
    "\n",
    "model = load_model('models/tic_tac_toe.h5')"
   ]
  },
  {
   "cell_type": "code",
   "execution_count": 5,
   "metadata": {},
   "outputs": [
    {
     "name": "stdout",
     "output_type": "stream",
     "text": [
      "Wins:  {'X': '40.0%', 'O': '30.0%', 'Draw': '30.0%'}\n"
     ]
    }
   ],
   "source": [
    "from src.tic_tac_toe import TicTacToe\n",
    "from src.self_play import self_train\n",
    "\n",
    "self_train(games=10, model=model)\n",
    "\n",
    "model.save('models/tic_tac_toe.h5')"
   ]
  }
 ],
 "metadata": {
  "kernelspec": {
   "display_name": "tic-tac-toe-ai",
   "language": "python",
   "name": "python3"
  },
  "language_info": {
   "codemirror_mode": {
    "name": "ipython",
    "version": 3
   },
   "file_extension": ".py",
   "mimetype": "text/x-python",
   "name": "python",
   "nbconvert_exporter": "python",
   "pygments_lexer": "ipython3",
   "version": "3.9.16"
  },
  "orig_nbformat": 4,
  "vscode": {
   "interpreter": {
    "hash": "db9b0c1184f4f41047b4ae4db8e90ec8907af7946d0096a9a7d301bb6bb9d2de"
   }
  }
 },
 "nbformat": 4,
 "nbformat_minor": 2
}
